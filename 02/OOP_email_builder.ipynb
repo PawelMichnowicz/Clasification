{
  "nbformat": 4,
  "nbformat_minor": 0,
  "metadata": {
    "colab": {
      "name": "email_builder.ipynb",
      "provenance": [],
      "collapsed_sections": [],
      "authorship_tag": "ABX9TyP1I4tnJ93HkOeTWWRYZS18",
      "include_colab_link": true
    },
    "kernelspec": {
      "name": "python3",
      "display_name": "Python 3"
    },
    "language_info": {
      "name": "python"
    }
  },
  "cells": [
    {
      "cell_type": "markdown",
      "metadata": {
        "id": "view-in-github",
        "colab_type": "text"
      },
      "source": [
        "<a href=\"https://colab.research.google.com/github/PawelMichnowicz/Clasification/blob/main/02/OOP_email_builder.ipynb\" target=\"_parent\"><img src=\"https://colab.research.google.com/assets/colab-badge.svg\" alt=\"Open In Colab\"/></a>"
      ]
    },
    {
      "cell_type": "code",
      "execution_count": null,
      "metadata": {
        "colab": {
          "base_uri": "https://localhost:8080/"
        },
        "id": "hzx-5CaZKUi7",
        "outputId": "7fba3e85-eba3-47a0-aca4-6c6169089d40"
      },
      "outputs": [
        {
          "output_type": "stream",
          "name": "stdout",
          "text": [
            "From: Him\n",
            "To: Her\n",
            "Tiitle: Hello\n",
            "CC: ['His Boss']\n",
            "BCC: ['His Mum']\n",
            "html: www.plemiona.pl\n"
          ]
        }
      ],
      "source": [
        "from abc import ABC, abstractmethod\n",
        "\n",
        "class IBuilder(ABC):\n",
        "    \n",
        "    @abstractmethod\n",
        "    def mail_from():\n",
        "        pass\n",
        "\n",
        "    @abstractmethod\n",
        "    def mail_to():\n",
        "        pass\n",
        "    \n",
        "    @abstractmethod\n",
        "    def set_title():\n",
        "        pass\n",
        "\n",
        "    @abstractmethod\n",
        "    def add_cc():\n",
        "        pass\n",
        "\n",
        "    @abstractmethod\n",
        "    def add_bcc():\n",
        "        pass\n",
        "\n",
        "    @abstractmethod\n",
        "    def set_html():\n",
        "        pass\n",
        "    \n",
        "    @abstractmethod\n",
        "    def get_result():\n",
        "        pass\n",
        "\n",
        "class Builder(IBuilder):\n",
        "\n",
        "    def __init__(self):\n",
        "      self.mail = Mail()\n",
        "\n",
        "    def mail_from(self, name):\n",
        "      self.mail.from_ = name\n",
        "      return self\n",
        "\n",
        "    \n",
        "    def mail_to(self, name):\n",
        "      self.mail.to_ = name\n",
        "      return self\n",
        "      \n",
        "\n",
        "    def set_title(self, text):\n",
        "      self.mail.title = text\n",
        "      return self\n",
        "        \n",
        "\n",
        "    def add_cc(self, name):\n",
        "      self.mail.cc.append(name)\n",
        "      return self\n",
        "      \n",
        "\n",
        "    def add_bcc(self, name):\n",
        "      self.mail.bcc.append(name)\n",
        "      return self\n",
        "      \n",
        "\n",
        "    def set_html(self, url):\n",
        "      self.mail.html = url\n",
        "      return self\n",
        "      \n",
        "    \n",
        "    def get_result(self):\n",
        "      return self.mail\n",
        "      \n",
        "\n",
        "class Mail():\n",
        "\n",
        "    def __init__(self):\n",
        "        self.from_ = None\n",
        "        self.to_ = None\n",
        "        self.title = None\n",
        "        self.cc = []\n",
        "        self.bcc = []\n",
        "        self.html = None\n",
        "\n",
        "    def show(self):\n",
        "      print('From:', self.from_)\n",
        "      print('To:', self.to_)\n",
        "      print('Tiitle:', self.title)\n",
        "      print('CC:', self.cc)\n",
        "      print('BCC:', self.bcc)\n",
        "      print('html:', self.html)\n",
        "      \n",
        "\n",
        "\n",
        "\n",
        "mail1 = Builder().mail_from(\"Him\").mail_to('Her').set_title(\"Hello\")\\\n",
        "            .add_cc('His Boss').add_bcc('His Mum').set_html('www.plemiona.pl')\\\n",
        "            .get_result()\n",
        "\n",
        "mail1.show()"
      ]
    },
    {
      "cell_type": "code",
      "source": [
        "import unittest\n",
        "\n",
        "class TestPerson(unittest.TestCase):\n",
        "\n",
        "  def setUp(self):\n",
        "      self.mail1 = Builder().mail_from(\"Him\").mail_to('Her').set_title(\"Hello\")\\\n",
        "            .add_cc('His Boss').add_bcc('His Mum').set_html('www.plemiona.pl')\\\n",
        "            .get_result()\n",
        "\n",
        "  def tearDown(self):\n",
        "      pass\n",
        "\n",
        "  def test_builder(self):\n",
        "    self.assertEqual(self.mail1.from_, \"Him\")\n",
        "    self.assertEqual(self.mail1.to_, \"Her\")\n",
        "    self.assertEqual(self.mail1.title, \"Hello\")\n",
        "    self.assertEqual(self.mail1.cc, [\"His Boss\"])\n",
        "    self.assertEqual(self.mail1.bcc, [\"His Mum\"])\n",
        "    self.assertEqual(self.mail1.html, \"www.plemiona.pl\")\n",
        "    \n",
        "\n",
        "\n",
        "\n",
        "unittest.main(argv=[''], exit=False)"
      ],
      "metadata": {
        "id": "GGi3d47iSkDJ",
        "colab": {
          "base_uri": "https://localhost:8080/"
        },
        "outputId": "f561651b-f253-4007-cb65-160bbe0f78a7"
      },
      "execution_count": null,
      "outputs": [
        {
          "output_type": "stream",
          "name": "stderr",
          "text": [
            ".\n",
            "----------------------------------------------------------------------\n",
            "Ran 1 test in 0.002s\n",
            "\n",
            "OK\n"
          ]
        },
        {
          "output_type": "execute_result",
          "data": {
            "text/plain": [
              "<unittest.main.TestProgram at 0x7f9a3d919f10>"
            ]
          },
          "metadata": {},
          "execution_count": 20
        }
      ]
    }
  ]
}